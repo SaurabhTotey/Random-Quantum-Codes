{
 "cells": [
  {
   "cell_type": "markdown",
   "id": "62166f56-f154-4950-b356-3bf89918222c",
   "metadata": {},
   "source": [
    "### Imports"
   ]
  },
  {
   "cell_type": "code",
   "execution_count": null,
   "id": "df3ef848-f9df-4f29-8beb-e9f13d3b377c",
   "metadata": {
    "tags": []
   },
   "outputs": [],
   "source": [
    "%load_ext autoreload\n",
    "%autoreload 2\n",
    "\n",
    "import numpy as np\n",
    "import matplotlib.pyplot as plt\n",
    "import qutip as qt\n",
    "from src import code_simulator, code"
   ]
  },
  {
   "cell_type": "markdown",
   "id": "8be9bbdc-2e0f-4442-9288-51c2619d82d5",
   "metadata": {},
   "source": [
    "### Parameters"
   ]
  },
  {
   "cell_type": "code",
   "execution_count": null,
   "id": "48b2dc2f-52eb-410c-9971-60edaa15ca83",
   "metadata": {
    "tags": []
   },
   "outputs": [],
   "source": [
    "rotation_symmetries = [2, 3, 4]\n",
    "loss_noise_values = [0.1, 0.05, 0.03, 0.01]\n",
    "number_of_filled_levels_values = range(1, 8)\n",
    "number_of_random_code_trials = 5"
   ]
  },
  {
   "cell_type": "markdown",
   "id": "644e2982-28b1-4f69-b987-1528e0c087ad",
   "metadata": {},
   "source": [
    "### Fidelities of Trivial Code"
   ]
  },
  {
   "cell_type": "code",
   "execution_count": null,
   "id": "7038b045-222a-49c5-999e-2662f7533d90",
   "metadata": {
    "tags": []
   },
   "outputs": [],
   "source": [
    "trivial_fidelities = [code_simulator.get_fidelity_of_code_under_loss_noise(code.trivial_code, loss_noise_amount, False) for loss_noise_amount in loss_noise_values]"
   ]
  },
  {
   "cell_type": "markdown",
   "id": "ca41a92e-2b69-4294-aff0-64715bd8836c",
   "metadata": {},
   "source": [
    "### Fidelities of Binomial Code\n",
    "\n",
    "This will take forever to run on the first time because it needs to calculate a lot of stuff, but subsequent runs should be near instantaneous because all the calculation values are saved to files."
   ]
  },
  {
   "cell_type": "code",
   "execution_count": null,
   "id": "180a53b8-cc0a-450f-b853-254b9c36a08e",
   "metadata": {},
   "outputs": [],
   "source": [
    "%%time\n",
    "\n",
    "binomial_fidelities = np.zeros((len(rotation_symmetries), len(loss_noise_values), len(number_of_filled_levels_values), 2))\n",
    "binomial_photon_numbers = np.zeros((len(rotation_symmetries), len(number_of_filled_levels_values)))\n",
    "for i, rotation_symmetry in enumerate(rotation_symmetries):\n",
    "\tfor j, loss_noise_amount in enumerate(loss_noise_values):\n",
    "\t\tfor k, number_of_filled_levels in enumerate(number_of_filled_levels_values):\n",
    "\t\t\tbinomial_code = code.get_binomial_code(rotation_symmetry, number_of_filled_levels, (number_of_filled_levels + 2) * rotation_symmetry)\n",
    "\t\t\tbinomial_fidelities[i,j,k,0] = code_simulator.get_fidelity_of_code_under_loss_noise(binomial_code, loss_noise_amount, False)\n",
    "\t\t\tbinomial_fidelities[i,j,k,1] = code_simulator.get_fidelity_of_code_under_loss_noise(binomial_code, loss_noise_amount, True)\n",
    "\t\t\tbinomial_photon_numbers[i,k] = qt.expect(qt.num(binomial_code.physical_dimension), 1 / 2 * (binomial_code.zero_encoding * binomial_code.zero_encoding.dag() + binomial_code.one_encoding * binomial_code.one_encoding.dag()))"
   ]
  },
  {
   "attachments": {},
   "cell_type": "markdown",
   "id": "326f9792",
   "metadata": {},
   "source": [
    "### Fidelities of Random Codes\n",
    "\n",
    "This will probably always take a bit."
   ]
  },
  {
   "cell_type": "code",
   "execution_count": null,
   "id": "0ec9f9af",
   "metadata": {},
   "outputs": [],
   "source": [
    "%%time\n",
    "\n",
    "random_fidelities = np.zeros((len(rotation_symmetries), len(loss_noise_values), len(number_of_filled_levels_values), number_of_random_code_trials, 2))\n",
    "random_photon_numbers = np.zeros((len(rotation_symmetries), len(loss_noise_values), len(number_of_filled_levels_values), number_of_random_code_trials))\n",
    "for i, rotation_symmetry in enumerate(rotation_symmetries):\n",
    "\tfor j, loss_noise_amount in enumerate(loss_noise_values):\n",
    "\t\tfor k, number_of_filled_levels in enumerate(number_of_filled_levels_values):\n",
    "\t\t\tphysical_dimension = (number_of_filled_levels + 2) * rotation_symmetry\n",
    "\t\t\tfor l in range(number_of_random_code_trials):\n",
    "\t\t\t\trandom_code = code.make_rotation_code_from_primitive_state(f\"Random-Haar-Rotation-{physical_dimension}\", True, qt.rand_ket_haar(physical_dimension), rotation_symmetry)\n",
    "\t\t\t\trandom_fidelities[i,j,k,l,0] = code_simulator.get_fidelity_of_code_under_loss_noise(random_code, loss_noise_amount, False)\n",
    "\t\t\t\trandom_fidelities[i,j,k,l,1] = code_simulator.get_fidelity_of_code_under_loss_noise(random_code, loss_noise_amount, True)\n",
    "\t\t\t\trandom_photon_numbers[i,j,k,l] = qt.expect(qt.num(random_code.physical_dimension), 1 / 2 * (random_code.zero_encoding * random_code.zero_encoding.dag() + random_code.one_encoding * random_code.one_encoding.dag()))"
   ]
  },
  {
   "cell_type": "markdown",
   "id": "46932f9f-ca54-4ca5-a4dd-987bad3c8b0c",
   "metadata": {},
   "source": [
    "### Plots of Error Rates vs. Average Number"
   ]
  },
  {
   "cell_type": "code",
   "execution_count": null,
   "id": "97ed0464-3219-4eda-8f79-429d43e5a984",
   "metadata": {
    "tags": []
   },
   "outputs": [],
   "source": [
    "fig, axs = plt.subplots(len(rotation_symmetries), len(loss_noise_values), figsize=(18, 12), constrained_layout=True)\n",
    "fig.suptitle(r\"$1 - F_\\epsilon$ versus $\\langle n\\rangle$\")\n",
    "for i, rotation_symmetry in enumerate(rotation_symmetries):\n",
    "\taxs[i,0].set_ylabel(f\"$N={rotation_symmetry}$\")\n",
    "for i, loss_noise_amount in enumerate(loss_noise_values):\n",
    "\taxs[0,i].set_title(f\"$\\\\kappa={loss_noise_amount}$\")\n",
    "\n",
    "for i, rotation_symmetry in enumerate(rotation_symmetries):\n",
    "\tfor j, loss_noise_amount in enumerate(loss_noise_values):\n",
    "\t\taxs[i,j].axhline(1 - trivial_fidelities[j], linestyle=\"--\", label=\"Trivial Recovery\")\n",
    "\t\taxs[i,j].semilogy(binomial_photon_numbers[i], 1 - binomial_fidelities[i,j,:,0], \".-\", label=\"Binomial No Recovery\")\n",
    "\t\taxs[i,j].semilogy(binomial_photon_numbers[i], 1 - binomial_fidelities[i,j,:,1], \".-\", label=\"Binomial Optimal Recovery\")\n",
    "\t\taxs[i,j].semilogy(random_photon_numbers[i,j,:,:].flatten(), 1 - random_fidelities[i,j,:,:,0].flatten(), \".\", label=\"Random No Recovery\")\n",
    "\t\taxs[i,j].semilogy(random_photon_numbers[i,j,:,:].flatten(), 1 - random_fidelities[i,j,:,:,1].flatten(), \".\", label=\"Random Optimal Recovery\")\n",
    "\n",
    "axs[-1,-1].legend()\n",
    "plt.show()"
   ]
  },
  {
   "cell_type": "code",
   "execution_count": null,
   "id": "3e16ee1c",
   "metadata": {},
   "outputs": [],
   "source": []
  }
 ],
 "metadata": {
  "kernelspec": {
   "display_name": "Random-Quantum-Codes",
   "language": "python",
   "name": "python3"
  },
  "language_info": {
   "codemirror_mode": {
    "name": "ipython",
    "version": 3
   },
   "file_extension": ".py",
   "mimetype": "text/x-python",
   "name": "python",
   "nbconvert_exporter": "python",
   "pygments_lexer": "ipython3",
   "version": "3.10.2"
  },
  "vscode": {
   "interpreter": {
    "hash": "98dbd2e9e0a19e01c62545f13ed8f3ea7a358166bbf7ff16ad548dfeb13f0822"
   }
  }
 },
 "nbformat": 4,
 "nbformat_minor": 5
}
