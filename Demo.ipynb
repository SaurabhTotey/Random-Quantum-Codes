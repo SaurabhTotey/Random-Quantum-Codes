{
 "cells": [
  {
   "cell_type": "markdown",
   "id": "62166f56-f154-4950-b356-3bf89918222c",
   "metadata": {},
   "source": [
    "### Imports"
   ]
  },
  {
   "cell_type": "code",
   "execution_count": 1,
   "id": "df3ef848-f9df-4f29-8beb-e9f13d3b377c",
   "metadata": {
    "tags": []
   },
   "outputs": [],
   "source": [
    "%load_ext autoreload\n",
    "%autoreload 2\n",
    "\n",
    "import numpy as np\n",
    "import matplotlib.pyplot as plt\n",
    "from src import code_simulator, code, noise, recovery"
   ]
  },
  {
   "cell_type": "markdown",
   "id": "8be9bbdc-2e0f-4442-9288-51c2619d82d5",
   "metadata": {},
   "source": [
    "### Parameters"
   ]
  },
  {
   "cell_type": "code",
   "execution_count": 2,
   "id": "48b2dc2f-52eb-410c-9971-60edaa15ca83",
   "metadata": {
    "tags": []
   },
   "outputs": [],
   "source": [
    "rotation_symmetries = [2, 3, 4]\n",
    "loss_noise_values = [0.1, 0.01, 0.001, 0.0001]\n",
    "number_of_filled_levels_values = range(1, 20)"
   ]
  },
  {
   "cell_type": "markdown",
   "id": "644e2982-28b1-4f69-b987-1528e0c087ad",
   "metadata": {},
   "source": [
    "### Fidelities of Trivial Code"
   ]
  },
  {
   "cell_type": "code",
   "execution_count": 3,
   "id": "7038b045-222a-49c5-999e-2662f7533d90",
   "metadata": {
    "tags": []
   },
   "outputs": [],
   "source": [
    "trivial_fidelities = [code_simulator.get_fidelity_of_code_under_loss_noise(code.trivial_code, loss_noise_amount, False) for loss_noise_amount in loss_noise_values]"
   ]
  },
  {
   "cell_type": "markdown",
   "id": "ca41a92e-2b69-4294-aff0-64715bd8836c",
   "metadata": {},
   "source": [
    "### Fidelities of Binomial Code\n",
    "\n",
    "This will take forever to run on the first time because it needs to calculate a lot of stuff, but subsequent runs should be near instantaneous because all the calculation values are saved to files."
   ]
  },
  {
   "cell_type": "code",
   "execution_count": 4,
   "id": "180a53b8-cc0a-450f-b853-254b9c36a08e",
   "metadata": {},
   "outputs": [
    {
     "name": "stdout",
     "output_type": "stream",
     "text": [
      "CPU times: user 133 ms, sys: 21.1 ms, total: 154 ms\n",
      "Wall time: 159 ms\n"
     ]
    }
   ],
   "source": [
    "%%time\n",
    "\n",
    "binomial_fidelities = np.zeros((len(rotation_symmetries), len(loss_noise_values), len(number_of_filled_levels_values), 2))\n",
    "binomial_photon_numbers = np.zeros((len(rotation_symmetries), len(number_of_filled_levels_values)))\n",
    "for i, rotation_symmetry in enumerate(rotation_symmetries):\n",
    "    for j, loss_noise_amount in enumerate(loss_noise_values):\n",
    "        for k, number_of_filled_levels in enumerate(number_of_filled_levels_values):\n",
    "            binomial_code = code.get_binomial_code(rotation_symmetry, number_of_filled_levels, (number_of_filled_levels + 2) * rotation_symmetry)\n",
    "            binomial_fidelities[i,j,k,0] = code_simulator.get_fidelity_of_code_under_loss_noise(binomial_code, loss_noise_amount, False)\n",
    "            binomial_fidelities[i,j,k,1] = code_simulator.get_fidelity_of_code_under_loss_noise(binomial_code, loss_noise_amount, True)\n",
    "            binomial_photon_numbers[i,k] = 0 # TODO"
   ]
  },
  {
   "cell_type": "markdown",
   "id": "46932f9f-ca54-4ca5-a4dd-987bad3c8b0c",
   "metadata": {},
   "source": [
    "### Plots of Error Rates vs. Average Number"
   ]
  },
  {
   "cell_type": "code",
   "execution_count": 5,
   "id": "97ed0464-3219-4eda-8f79-429d43e5a984",
   "metadata": {
    "tags": []
   },
   "outputs": [
    {
     "data": {
      "image/png": "[encoded data removed]",
      "text/plain": [
       "<Figure size 640x480 with 12 Axes>"
      ]
     },
     "metadata": {},
     "output_type": "display_data"
    }
   ],
   "source": [
    "fig, axs = plt.subplots(len(rotation_symmetries), len(loss_noise_values))\n",
    "# TODO"
   ]
  }
 ],
 "metadata": {
  "kernelspec": {
   "display_name": "Python 3 (ipykernel)",
   "language": "python",
   "name": "python3"
  },
  "language_info": {
   "codemirror_mode": {
    "name": "ipython",
    "version": 3
   },
   "file_extension": ".py",
   "mimetype": "text/x-python",
   "name": "python",
   "nbconvert_exporter": "python",
   "pygments_lexer": "ipython3",
   "version": "3.10.2"
  }
 },
 "nbformat": 4,
 "nbformat_minor": 5
}
