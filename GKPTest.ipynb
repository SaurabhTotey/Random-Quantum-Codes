{
 "cells": [
  {
   "attachments": {},
   "cell_type": "markdown",
   "metadata": {},
   "source": [
    "# GKP Test\n",
    "\n",
    "The purpose of this notebook is to determine how best to sweep GKP code parameters so that it can be accurately compared with binomial codes and random codes. Mainly, there is a need to establish a relationship between the energy constraint, the boson number cutoff, and the average boson number. TODO"
   ]
  },
  {
   "cell_type": "code",
   "execution_count": null,
   "metadata": {
    "vscode": {
     "languageId": "plaintext"
    }
   },
   "outputs": [],
   "source": []
  }
 ],
 "metadata": {
  "language_info": {
   "name": "python"
  },
  "orig_nbformat": 4
 },
 "nbformat": 4,
 "nbformat_minor": 2
}
